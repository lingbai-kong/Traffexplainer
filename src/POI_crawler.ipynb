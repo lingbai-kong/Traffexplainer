{
 "cells": [
  {
   "cell_type": "markdown",
   "metadata": {},
   "source": [
    "# 获取各个节点的POI信息"
   ]
  },
  {
   "cell_type": "code",
   "execution_count": 1,
   "metadata": {},
   "outputs": [],
   "source": [
    "import pickle\n",
    "node_dict_amap={}\n",
    "road_edges={}\n",
    "with open('../data/map_nodes_amap.pkl','rb') as f:\n",
    "    node_dict_amap=pickle.load(f)\n",
    "with open('../data/road_edges.pkl','rb') as f:\n",
    "    road_edges=pickle.load(f)"
   ]
  },
  {
   "cell_type": "code",
   "execution_count": 2,
   "metadata": {},
   "outputs": [],
   "source": [
    "import requests\n",
    "import json\n",
    "import threading\n",
    "import queue\n",
    "from fake_useragent import UserAgent\n",
    "def get_POI(location):\n",
    "    server_host='http://106.11.43.113/v5/place/around'\n",
    "    parameters={\n",
    "        'key':'053d8830d4ed8bfc7fac9a3a5d8b10cf',\n",
    "        'types':'050000|060000|070000|080000|090000|100000|110000|120000|130000|140000|150000|160000|170000',\n",
    "        'location':str(location[0])[0:10]+','+str(location[1])[0:9],\n",
    "        'radius':'200',\n",
    "        'sortrule':'weight',\n",
    "        'region':'上海市'\n",
    "    }\n",
    "    response=requests.get(url=server_host,\n",
    "                         headers={'User-Agent':UserAgent(path='fakeuseragent.json').random},\n",
    "                         params=parameters)\n",
    "    response.encoding=response.apparent_encoding\n",
    "    return response.text\n",
    "\n",
    "q = queue.Queue()\n",
    "thread_list = []\n",
    "\n",
    "def download_task(node,location):\n",
    "    res=json.loads(get_POI(location))\n",
    "    if res['status']==\"1\" and res['info']=='OK':\n",
    "        data=[{'name':poi['name'],\n",
    "              'location':poi['location'],\n",
    "              'type':poi['type'],\n",
    "              'typecode':poi['typecode']} for poi in res['pois']]\n",
    "        q.put((node,data))\n",
    "    \n",
    "node_list=[]\n",
    "for road,edges in road_edges.items():\n",
    "    node_list+=list(set([edge[0] for edge in edges]+[edge[1] for edge in edges]))\n",
    "node_list=list(set(node_list))\n",
    "\n",
    "node_dict_amap_POIs={}\n",
    "while True:\n",
    "    node_remain_list=[node for node in node_list if node not in node_dict_amap_POIs]\n",
    "    if len(node_remain_list)==0:\n",
    "        break\n",
    "    \n",
    "    for node in node_remain_list:\n",
    "        location=node_dict_amap[node]\n",
    "        args=(node,location)\n",
    "        thread = threading.Thread(target=download_task, args=args)\n",
    "        thread_list.append(thread)\n",
    "        thread.start()\n",
    "\n",
    "    for thread in thread_list:\n",
    "        thread.join()\n",
    "    thread_list.clear()\n",
    "\n",
    "\n",
    "    while not q.empty():\n",
    "        data=q.get()\n",
    "        node_dict_amap_POIs[data[0]]=data[1]"
   ]
  },
  {
   "cell_type": "markdown",
   "metadata": {},
   "source": [
    "# 保存数据"
   ]
  },
  {
   "cell_type": "code",
   "execution_count": 3,
   "metadata": {},
   "outputs": [],
   "source": [
    "import pickle\n",
    "with open('../data/POI.pkl','wb') as f:\n",
    "    pickle.dump(node_dict_amap_POIs,f)"
   ]
  },
  {
   "cell_type": "code",
   "execution_count": 4,
   "metadata": {},
   "outputs": [
    {
     "name": "stdout",
     "output_type": "stream",
     "text": [
      "4499\n",
      "[{'name': '大眼面馆(总店)', 'location': '121.474306,31.206484', 'type': '餐饮服务;中餐厅;中餐厅', 'typecode': '050100'}, {'name': '上海启派贸易有限公司', 'location': '121.474414,31.206447', 'type': '公司企业;公司;公司', 'typecode': '170200'}, {'name': '上海药房(永春店)', 'location': '121.474268,31.206598', 'type': '医疗保健服务;医药保健销售店;药房', 'typecode': '090601'}, {'name': '黄家菜饭(丽园店)', 'location': '121.474528,31.206443', 'type': '餐饮服务;中餐厅;中餐厅', 'typecode': '050100'}, {'name': '爱心献血屋(丽园路店)', 'location': '121.474511,31.206455', 'type': '医疗保健服务;医疗保健服务场所;医疗保健服务场所', 'typecode': '090000'}, {'name': '大眼家常菜(上海鲁班路店)', 'location': '121.474271,31.206579', 'type': '餐饮服务;中餐厅;中餐厅', 'typecode': '050100'}, {'name': '西北牛肉面', 'location': '121.474247,31.206643', 'type': '餐饮服务;快餐厅;快餐厅', 'typecode': '050300'}, {'name': '老五超市', 'location': '121.474497,31.206436', 'type': '购物服务;便民商店/便利店;便民商店/便利店', 'typecode': '060200'}, {'name': '西北特色各种面饭(鲁班路老店)', 'location': '121.474249,31.206642', 'type': '餐饮服务;中餐厅;清真菜馆', 'typecode': '050121'}, {'name': '均均烟酒商行', 'location': '121.474239,31.206664', 'type': '购物服务;专卖店;烟酒专卖店', 'typecode': '061210'}]\n"
     ]
    }
   ],
   "source": [
    "import pickle\n",
    "with open('../data/POI.pkl','rb') as f:\n",
    "    node_dict_amap_POIs=pickle.load(f)\n",
    "print((len(node_dict_amap_POIs)))\n",
    "print(node_dict_amap_POIs['601712444'])"
   ]
  },
  {
   "cell_type": "code",
   "execution_count": null,
   "metadata": {},
   "outputs": [],
   "source": []
  }
 ],
 "metadata": {
  "kernelspec": {
   "display_name": "Python 3",
   "language": "python",
   "name": "python3"
  },
  "language_info": {
   "codemirror_mode": {
    "name": "ipython",
    "version": 3
   },
   "file_extension": ".py",
   "mimetype": "text/x-python",
   "name": "python",
   "nbconvert_exporter": "python",
   "pygments_lexer": "ipython3",
   "version": "3.8.5"
  }
 },
 "nbformat": 4,
 "nbformat_minor": 5
}
