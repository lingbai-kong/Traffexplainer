{
 "cells": [
  {
   "cell_type": "markdown",
   "metadata": {},
   "source": [
    "# 读取数据"
   ]
  },
  {
   "cell_type": "code",
   "execution_count": 2,
   "metadata": {},
   "outputs": [],
   "source": [
    "import pickle\n",
    "road_zip={}\n",
    "road_edges={}\n",
    "node_dict={}\n",
    "node_dict_amap={}\n",
    "node_poi={}\n",
    "with open('../data/road_zip.pkl','rb') as f:\n",
    "    road_zip=pickle.load(f)\n",
    "with open('../data/road_edges.pkl','rb') as f:\n",
    "    road_edges=pickle.load(f)\n",
    "with open('../data/map_nodes.pkl','rb') as f:\n",
    "    node_dict=pickle.load(f)\n",
    "with open('../data/map_nodes_amap.pkl','rb') as f:\n",
    "    node_dict_amap=pickle.load(f)\n",
    "with open('../data/POI.pkl','rb') as f:\n",
    "    node_poi=pickle.load(f)"
   ]
  },
  {
   "cell_type": "markdown",
   "metadata": {},
   "source": [
    "# 数据原子化"
   ]
  },
  {
   "cell_type": "markdown",
   "metadata": {},
   "source": [
    "生成.dyna文件"
   ]
  },
  {
   "cell_type": "code",
   "execution_count": 3,
   "metadata": {},
   "outputs": [],
   "source": [
    "import numpy as np\n",
    "import datetime\n",
    "import csv"
   ]
  },
  {
   "cell_type": "code",
   "execution_count": 4,
   "metadata": {},
   "outputs": [
    {
     "name": "stdout",
     "output_type": "stream",
     "text": [
      "data length 4499\n"
     ]
    }
   ],
   "source": [
    "node_roads_aggre={}\n",
    "for road,edges in road_edges.items():\n",
    "    node_list=list(set([edge[0] for edge in edges]+[edge[1] for edge in edges]))\n",
    "    for node in node_list:\n",
    "        if node in node_roads_aggre:\n",
    "            node_roads_aggre[node].append(road)\n",
    "        else:\n",
    "            node_roads_aggre[node]=[road]\n",
    "            \n",
    "node_speed_aggre={}\n",
    "zip_shape=np.array(list(road_zip.values())).shape\n",
    "\n",
    "for node,roads in node_roads_aggre.items():\n",
    "    mean_speed=np.zeros((zip_shape[1],zip_shape[2]))\n",
    "    for road in roads:\n",
    "        mean_speed+=np.array(road_zip[road][:,:,1])\n",
    "    mean_speed/=len(roads)\n",
    "    node_speed_aggre[node]=mean_speed\n",
    "\n",
    "print('data length',len(node_speed_aggre))  \n",
    "with open(f'../data/atom/TGESHD.dyna','w') as f:\n",
    "    csv_writer = csv.writer(f)\n",
    "    csv_writer.writerow(['dyna_id','type','time','entity_id','traffic_speed'])\n",
    "    start_day=datetime.datetime.strptime('2022-01-25T05:00:00Z','%Y-%m-%dT%H:%M:%SZ')\n",
    "    no = 0\n",
    "    for node,speed in node_speed_aggre.items():\n",
    "        for day in range(speed.shape[0]):\n",
    "            for time in range(speed.shape[1]):\n",
    "                delta = datetime.timedelta(days=day,minutes=time*5)\n",
    "                csv_writer.writerow([\n",
    "                    no,\n",
    "                    'state',\n",
    "                    (start_day+delta).strftime(\"%Y-%m-%dT%H:%M:%SZ\"),\n",
    "                    node,\n",
    "                    speed[day][time]\n",
    "                ])\n",
    "                no+=1\n",
    "    f.close()"
   ]
  },
  {
   "cell_type": "markdown",
   "metadata": {},
   "source": [
    "生成.geo文件"
   ]
  },
  {
   "cell_type": "code",
   "execution_count": 5,
   "metadata": {},
   "outputs": [
    {
     "name": "stdout",
     "output_type": "stream",
     "text": [
      "data length 4499\n"
     ]
    }
   ],
   "source": [
    "node_poi_code={}\n",
    "for node in node_poi:\n",
    "    if node in node_roads_aggre:\n",
    "        node_poi_code[node]=list(set([poi['typecode'][0:2] for poi in node_poi[node]]))\n",
    "\n",
    "with open(f'../data/atom/TGESHD.geo','w') as f:\n",
    "    csv_writer = csv.writer(f)\n",
    "    csv_writer.writerow(['geo_id','type','coordinates','Food','Shopping','Daily','Sports','Medical','Accommodation','Tourist','House','Government','Education','Transportation','Finance','Enterprises'])\n",
    "    for node,pois in node_poi_code.items():\n",
    "        csv_writer.writerow([\n",
    "            node,\n",
    "            'Point',\n",
    "            '['+node_dict_amap[node][0]+','+node_dict_amap[node][1]+']',\n",
    "            1 if '05' in pois else 0,\n",
    "            1 if '06' in pois else 0,\n",
    "            1 if '07' in pois else 0,\n",
    "            1 if '08' in pois else 0,\n",
    "            1 if '09' in pois else 0,\n",
    "            1 if '10' in pois else 0,\n",
    "            1 if '11' in pois else 0,\n",
    "            1 if '12' in pois else 0,\n",
    "            1 if '13' in pois else 0,\n",
    "            1 if '14' in pois else 0,\n",
    "            1 if '15' in pois else 0,\n",
    "            1 if '16' in pois else 0,\n",
    "            1 if '17' in pois else 0\n",
    "        ])\n",
    "    f.close()\n",
    "print('data length',len(set(node_poi_code)))"
   ]
  },
  {
   "cell_type": "markdown",
   "metadata": {},
   "source": [
    "生成rel文件"
   ]
  },
  {
   "cell_type": "code",
   "execution_count": 6,
   "metadata": {},
   "outputs": [],
   "source": [
    "with open(f'../data/atom/TGESHD.rel','w') as f:\n",
    "    csv_writer = csv.writer(f)\n",
    "    csv_writer.writerow(['rel_id','type','origin_id','destination_id','road_name','road_direction','weight'])\n",
    "    no=0\n",
    "    for road,edges in road_edges.items():\n",
    "        for edge in edges:\n",
    "            csv_writer.writerow([\n",
    "                no,\n",
    "                'geo',\n",
    "                edge[0],\n",
    "                edge[1],\n",
    "                road[0],\n",
    "                road[1],\n",
    "                1\n",
    "            ])\n",
    "            no+=1"
   ]
  },
  {
   "cell_type": "code",
   "execution_count": null,
   "metadata": {},
   "outputs": [],
   "source": []
  }
 ],
 "metadata": {
  "kernelspec": {
   "display_name": "Python 3",
   "language": "python",
   "name": "python3"
  },
  "language_info": {
   "codemirror_mode": {
    "name": "ipython",
    "version": 3
   },
   "file_extension": ".py",
   "mimetype": "text/x-python",
   "name": "python",
   "nbconvert_exporter": "python",
   "pygments_lexer": "ipython3",
   "version": "3.9.18"
  }
 },
 "nbformat": 4,
 "nbformat_minor": 5
}
