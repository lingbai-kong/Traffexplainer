{
 "cells": [
  {
   "cell_type": "markdown",
   "metadata": {},
   "source": [
    "# 数据读取\n",
    "读取csv数据，初次得到的数据结构如下：\n",
    "```\n",
    "data=\n",
    "[\n",
    "    {\n",
    "        'date',\n",
    "        'time',\n",
    "        'data':[\n",
    "            第road_id行，存放road_id的数据：[status,speed]\n",
    "        ]\n",
    "        不同时间的不同data不等长\n",
    "    }\n",
    "]\n",
    "```"
   ]
  },
  {
   "cell_type": "code",
   "execution_count": 1,
   "metadata": {
    "scrolled": true
   },
   "outputs": [],
   "source": [
    "import csv\n",
    "import os\n",
    "# datav2 12-06 12-24\n",
    "# datav3 1-25 2-9\n",
    "file_path='../data/datav3'\n",
    "file_list=sorted(os.listdir(file_path))\n",
    "date_time={}\n",
    "for fname in file_list:\n",
    "    if fname[0]=='.':\n",
    "        continue\n",
    "        \n",
    "    date=fname[8:13]\n",
    "    time=fname[14:22]\n",
    "    \n",
    "    if date>='01-25' and date<='02-09':\n",
    "        if date not in date_time:\n",
    "            date_time[date]=[time]\n",
    "        else:\n",
    "            date_time[date].append(time)\n",
    "#把每一天的时间段数据归一化，抛弃尾端数据\n",
    "min_time_num=228\n",
    "for date,times in date_time.items():\n",
    "    if len(times)<min_time_num:\n",
    "        min_time_num=len(times)\n",
    "for date in date_time:\n",
    "    if len(date_time[date])>min_time_num:\n",
    "        date_time[date]=date_time[date][0:min_time_num]\n",
    "\n",
    "road_dict={}\n",
    "data=[]\n",
    "\n",
    "for date,times in date_time.items():\n",
    "    for time in times:\n",
    "        fname='ts_2022-'+date+' '+time+'.csv'\n",
    "        date_data=[[0,0] for i in range(len(road_dict))]\n",
    "        with open(file_path+'/'+fname,'r') as f:\n",
    "            csv_reader = csv.reader(f)\n",
    "            for row in csv_reader:\n",
    "                if (row[0],row[2]) in road_dict:\n",
    "                    date_data[road_dict[(row[0],row[2])]['id']][0]=int(row[1])\n",
    "                    date_data[road_dict[(row[0],row[2])]['id']][1]=int(row[4])\n",
    "                else:\n",
    "                    road_dict[(row[0],row[2])]={'id':len(road_dict)}\n",
    "                    date_data.append([int(row[1]),int(row[4])])\n",
    "            f.close()\n",
    "        #time=(int(fname[14:16])-5)*60+int(fname[17:19])\n",
    "        data.append({'date':date,'time':time,'data':date_data})"
   ]
  },
  {
   "cell_type": "markdown",
   "metadata": {},
   "source": [
    "# 数据清洗\n",
    "二次处理读到的csv数据，使其转化为光栅(Raster)数据\n",
    "```\n",
    "dataset=[\n",
    "    for each day\n",
    "    [\n",
    "        for each roads\n",
    "        [\n",
    "            for each time\n",
    "            [\n",
    "                [status,speed]\n",
    "            ]\n",
    "        ]\n",
    "    ]\n",
    "]\n",
    "```\n",
    "记每天为一个样本组，天数=样本数=N，每个样本记录了E个道路信息，每个道路包含T个时间片的监测数据，每个数据有C个特征"
   ]
  },
  {
   "cell_type": "code",
   "execution_count": 2,
   "metadata": {},
   "outputs": [],
   "source": [
    "import numpy as np\n",
    "from collections import Counter\n",
    "dataset=[]\n",
    "raster=[[] for i in range(len(road_dict))]\n",
    "for index,item in enumerate(data):\n",
    "    for road in road_dict:\n",
    "        road_id=road_dict[(road)]['id']\n",
    "        if road_id<len(item['data']):\n",
    "            raster[road_id].append(item['data'][road_id])\n",
    "        else:\n",
    "            raster[road_id].append([0,0])\n",
    "\n",
    "    if index==len(data)-1 or item['date']!=data[index+1]['date']:\n",
    "        dataset.append(raster)\n",
    "        raster=[[] for i in range(len(road_dict))]\n",
    "dataset=np.array(dataset)# date, road, time, [status, speed]"
   ]
  },
  {
   "cell_type": "markdown",
   "metadata": {},
   "source": [
    "将每一天的数据拼接\n",
    "```\n",
    "dataset=[\n",
    "    for each roads\n",
    "    [\n",
    "        for all time\n",
    "        [\n",
    "            [status,speed]\n",
    "        ]\n",
    "    ]\n",
    "]\n",
    "```\n",
    "样本记录了E个道路信息，每个道路包含N*T个时间片的监测数据，每个数据有C个特征"
   ]
  },
  {
   "cell_type": "code",
   "execution_count": 3,
   "metadata": {},
   "outputs": [],
   "source": [
    "dataset=np.concatenate(dataset,axis=1)"
   ]
  },
  {
   "cell_type": "markdown",
   "metadata": {},
   "source": [
    "将数据缺失率在50%以上的路段剔除<br>\n",
    "road_zip是之后代码块使用的数据源"
   ]
  },
  {
   "cell_type": "code",
   "execution_count": 4,
   "metadata": {},
   "outputs": [],
   "source": [
    "road_zip=dict(zip(road_dict.keys(),dataset))\n",
    "\n",
    "delete_roads=[]\n",
    "for road,data in road_zip.items():\n",
    "    null_cnt=0\n",
    "    zero_cnt=Counter(data[:,0])[0]\n",
    "    if zero_cnt>len(data)*0.5:\n",
    "        delete_roads.append(road)\n",
    "for road in delete_roads:\n",
    "    road_zip.pop(road)\n",
    "\n",
    "road_zip_keys=list(road_zip.keys())\n",
    "road_zip_values=np.array(list(road_zip.values())).reshape(len(road_zip),-1,min_time_num,2)\n",
    "road_zip=dict(zip(road_zip_keys,road_zip_values))"
   ]
  },
  {
   "cell_type": "markdown",
   "metadata": {},
   "source": [
    "保存road_zip"
   ]
  },
  {
   "cell_type": "code",
   "execution_count": 5,
   "metadata": {},
   "outputs": [],
   "source": [
    "import pickle\n",
    "with open('../data/road_zip.pkl','wb') as f:\n",
    "    pickle.dump(road_zip, f)"
   ]
  },
  {
   "cell_type": "code",
   "execution_count": null,
   "metadata": {},
   "outputs": [],
   "source": []
  }
 ],
 "metadata": {
  "kernelspec": {
   "display_name": "Python 3",
   "language": "python",
   "name": "python3"
  },
  "language_info": {
   "codemirror_mode": {
    "name": "ipython",
    "version": 3
   },
   "file_extension": ".py",
   "mimetype": "text/x-python",
   "name": "python",
   "nbconvert_exporter": "python",
   "pygments_lexer": "ipython3",
   "version": "3.8.5"
  }
 },
 "nbformat": 4,
 "nbformat_minor": 5
}
